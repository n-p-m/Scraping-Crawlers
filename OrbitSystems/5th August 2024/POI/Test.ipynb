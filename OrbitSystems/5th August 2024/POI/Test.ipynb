{
 "cells": [
  {
   "cell_type": "code",
   "execution_count": 2,
   "metadata": {},
   "outputs": [],
   "source": [
    "import urllib"
   ]
  },
  {
   "cell_type": "code",
   "execution_count": 3,
   "metadata": {},
   "outputs": [],
   "source": [
    "from urllib.parse import urlparse\n",
    "\n",
    "def is_not_google_domain(url,domain):\n",
    "    parsed_url = urlparse(url)\n",
    "    domain = parsed_url.netloc.lower()\n",
    "    \n",
    "    # Remove 'www.' if present\n",
    "    if domain.startswith('www.'):\n",
    "        domain = domain[4:]\n",
    "    \n",
    "    return domain != 'google.com' and not domain.endswith('.google.com')"
   ]
  },
  {
   "cell_type": "code",
   "execution_count": 7,
   "metadata": {},
   "outputs": [
    {
     "name": "stdout",
     "output_type": "stream",
     "text": [
      "True\n"
     ]
    }
   ],
   "source": [
    "array=['https://www.lowellsun.com/2020/12/12/lowell-based-invisawear-partners-with-adt-for-enhanced-security-offerings/', 'https://coolmomtech.com/2019/02/invisawear-smart-jewelry-safety-alert/']\n",
    "domain=\"\"\n",
    "print(is_not_google_domain(array[0],domain))\n",
    "\n",
    "\n"
   ]
  },
  {
   "cell_type": "code",
   "execution_count": 9,
   "metadata": {},
   "outputs": [
    {
     "name": "stdout",
     "output_type": "stream",
     "text": [
      "www.lowellsun.com\n"
     ]
    }
   ],
   "source": [
    "parsed_url = urlparse(array[0])\n",
    "domain = parsed_url.netloc.lower()\n",
    "print(parsed_url.netloc)"
   ]
  },
  {
   "cell_type": "code",
   "execution_count": null,
   "metadata": {},
   "outputs": [],
   "source": []
  }
 ],
 "metadata": {
  "kernelspec": {
   "display_name": "venv",
   "language": "python",
   "name": "python3"
  },
  "language_info": {
   "codemirror_mode": {
    "name": "ipython",
    "version": 3
   },
   "file_extension": ".py",
   "mimetype": "text/x-python",
   "name": "python",
   "nbconvert_exporter": "python",
   "pygments_lexer": "ipython3",
   "version": "3.8.10"
  }
 },
 "nbformat": 4,
 "nbformat_minor": 2
}
